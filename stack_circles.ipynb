{
 "cells": [
  {
   "cell_type": "code",
   "execution_count": 2,
   "metadata": {},
   "outputs": [],
   "source": [
    "import numpy as np\n",
    "import svgwrite\n",
    "import os\n",
    "\n",
    "dwg = svgwrite.Drawing('svgobject',size=('620','620'), profile='full') #position One\n",
    "\n",
    "n_circles = 3  # will generate n files\n",
    "max_rad=300    # maxiumu radius, modify with interactive() later\n",
    "r = 1.0        # starting radius, modify with interactive() later\n",
    "c=[310,310]    # Center point of circles, modify with interactive() later\n",
    "\n",
    "for i in range(n_circles):\n",
    "#    dwg = svgwrite.Drawing('svgobject',size=('620','620'), profile='full') #position Two\n",
    "    while r < max_rad:   \n",
    "        step = np.around(np.random.uniform(2, 6),1) # small positive increase in radius\n",
    "        r += step # increment radius\n",
    "        dwg.add(dwg.circle(c, r,stroke=\"black\", fill='none')) # append 'svgobject'\n",
    "        \n",
    "    n = 0\n",
    "    while os.path.exists(\"SVG_Circles%s.svg\" % n):\n",
    "        n += 1\n",
    "\n",
    "\n",
    "    dwg.saveas(\"SVG_Circles%s.svg\" % n,pretty=True)\n",
    "\n"
   ]
  }
 ],
 "metadata": {
  "kernelspec": {
   "display_name": "Python 3",
   "language": "python",
   "name": "python3"
  },
  "language_info": {
   "codemirror_mode": {
    "name": "ipython",
    "version": 3
   },
   "file_extension": ".py",
   "mimetype": "text/x-python",
   "name": "python",
   "nbconvert_exporter": "python",
   "pygments_lexer": "ipython3",
   "version": "3.8.5"
  }
 },
 "nbformat": 4,
 "nbformat_minor": 4
}
