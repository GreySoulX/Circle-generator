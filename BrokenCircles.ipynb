{
 "cells": [
  {
   "cell_type": "code",
   "execution_count": 1,
   "metadata": {},
   "outputs": [],
   "source": [
    "import numpy as np\n",
    "import matplotlib.patches as mpatches\n",
    "from matplotlib.collections import PatchCollection\n",
    "import matplotlib.pyplot as plt\n",
    "from IPython.display import display, Markdown, clear_output\n",
    "from ipywidgets import widgets\n",
    "from ipywidgets import interact, interact_manual, interactive, Button"
   ]
  },
  {
   "cell_type": "code",
   "execution_count": null,
   "metadata": {},
   "outputs": [],
   "source": [
    "def make_circles(n_circles=100,min_radius=0.05, max_radius=9.0, debug=False, Refresh=False ):\n",
    "\n",
    "    x_bounds = [-10, 10]\n",
    "    y_bounds = [-10, 10]\n",
    "    circles = []\n",
    "\n",
    "    for i in range(n_circles):\n",
    "        c = np.array([0, 0])\n",
    "        r = np.unique(np.sort(np.round(np.random.uniform(min_radius,max_radius,1),2)))\n",
    "        circles.append((c, r))\n",
    "    \n",
    "    circles\n",
    "    circle_patches = []\n",
    "    for c, r in circles:\n",
    "        circle_patches.append(mpatches.Circle(c, r, fill=None, edgecolor='black'))\n",
    "\n",
    "    fig, ax = plt.subplots(figsize=(20, 20))\n",
    " \n",
    "    if not debug:\n",
    "        plt.grid(False)\n",
    "        plt.axis('off')\n",
    "\n",
    "    ax.set_aspect('equal')\n",
    "    ax.set_xlim(x_bounds)\n",
    "    ax.set_ylim(y_bounds)\n",
    "\n",
    "    collection = PatchCollection(circle_patches, match_original=True)\n",
    "    ax.add_collection(collection)\n",
    "\n",
    "    return fig, ax\n",
    "    \n",
    "w = interactive(make_circles,\n",
    "                n_circles=(1,300,1),\n",
    "                min_radius=(0.00, 2.0, 0.1),\n",
    "                max_radius=(2.0, 20, 0.5))\n",
    "\n",
    "#------Button----------\n",
    "button = widgets.Button(description='Save as...')\n",
    "out = widgets.Output()\n",
    "\n",
    "def on_button_clicked(_):\n",
    "    #link function with output\n",
    "    with out:\n",
    "        #what happens when we hit button\n",
    "        #clear_output()\n",
    "        print('Saving Files...')\n",
    "        plt.savefig('SomeFile.svg', bbox_inches = 'tight', pad_inches = 0)\n",
    "        plt.savefig('SomeFile.png', bbox_inches = 'tight', pad_inches = 0)\n",
    "\n",
    "\n",
    "# linking button and function together using a button's method\n",
    "button.on_click(on_button_clicked)\n",
    "# displaying Circles and button\n",
    "widgets.VBox([button,out,w])\n",
    "#------End Button------------\n",
    "\n",
    "\n",
    "\n"
   ]
  }
 ],
 "metadata": {
  "kernelspec": {
   "display_name": "Python 3",
   "language": "python",
   "name": "python3"
  },
  "language_info": {
   "codemirror_mode": {
    "name": "ipython",
    "version": 3
   },
   "file_extension": ".py",
   "mimetype": "text/x-python",
   "name": "python",
   "nbconvert_exporter": "python",
   "pygments_lexer": "ipython3",
   "version": "3.8.5"
  }
 },
 "nbformat": 4,
 "nbformat_minor": 2
}
