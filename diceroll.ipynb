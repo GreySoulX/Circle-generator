{
 "cells": [
  {
   "cell_type": "code",
   "execution_count": 12,
   "metadata": {},
   "outputs": [],
   "source": [
    "import numpy as np\n",
    "import os\n",
    "\n",
    "loops = 3  # will generate n files\n",
    "limit = 300    \n",
    "throw = 1.0        \n",
    "results = []\n",
    "\n",
    "while loops >=1:\n",
    "    loops -= 1\n",
    "    while throw <= limit:   \n",
    "        roll = np.random.randint(1, 7)\n",
    "        throw += 1\n",
    "        results.append(roll)\n",
    "\n",
    "    n = 1\n",
    "    while os.path.exists(\"random%s.txt\" % n):\n",
    "        n += 1\n",
    "\n",
    "    listToStr = ' '.join(map(str, results))\n",
    "    f = open(\"random%s.txt\" % n, \"w\" )\n",
    "    f.write(listToStr)\n",
    "    f.close()"
   ]
  },
  {
   "cell_type": "code",
   "execution_count": null,
   "metadata": {},
   "outputs": [],
   "source": []
  }
 ],
 "metadata": {
  "kernelspec": {
   "display_name": "Python 3",
   "language": "python",
   "name": "python3"
  },
  "language_info": {
   "codemirror_mode": {
    "name": "ipython",
    "version": 3
   },
   "file_extension": ".py",
   "mimetype": "text/x-python",
   "name": "python",
   "nbconvert_exporter": "python",
   "pygments_lexer": "ipython3",
   "version": "3.8.5"
  }
 },
 "nbformat": 4,
 "nbformat_minor": 4
}
